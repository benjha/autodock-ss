{
 "cells": [
  {
   "cell_type": "markdown",
   "id": "d7faed37-0cad-4ed2-807c-8bb5d71a9e43",
   "metadata": {},
   "source": [
    "### Autodock-SS"
   ]
  },
  {
   "cell_type": "markdown",
   "id": "8bb340be-11bd-4ada-8051-603cf2cf498a",
   "metadata": {},
   "source": [
    "#### Connecting to SmartRedis and getting the docking Results"
   ]
  },
  {
   "cell_type": "code",
   "execution_count": 1,
   "id": "529a3e20-0e7a-42d8-86ce-1e42f1b5876b",
   "metadata": {},
   "outputs": [
    {
     "name": "stdout",
     "output_type": "stream",
     "text": [
      "Dataset written\n",
      "<smartredis.smartredisPy.PyDataset object at 0x7f43e0bf09b0>\n"
     ]
    }
   ],
   "source": [
    "import numpy as np\n",
    "from smartredis import Client\n",
    "\n",
    "client = Client(address=\"127.0.0.1:6780\", cluster=False)\n",
    "\n",
    "# poll until data is available\n",
    "client.poll_key(\"1stp_ligand.pdbqt_testing\", 100, 100)\n",
    "\n",
    "print(\"Dataset written\")\n",
    "dataset=client.get_dataset(\"1stp_ligand.pdbqt_testing\")\n",
    "print(dataset)"
   ]
  },
  {
   "cell_type": "markdown",
   "id": "98e8765f-70a5-40c5-9e2e-9695cf8752b3",
   "metadata": {},
   "source": [
    "#### Getting some metadata and the input ligand"
   ]
  },
  {
   "cell_type": "code",
   "execution_count": 2,
   "id": "1bb3831e-42db-439c-a0fe-345e608f97e1",
   "metadata": {},
   "outputs": [
    {
     "name": "stdout",
     "output_type": "stream",
     "text": [
      "[82 69 77 ... 32 53 10]\n"
     ]
    }
   ],
   "source": [
    "inputLigand = dataset.get_tensor(\"input_ligand\")\n",
    "print(inputLigand)"
   ]
  },
  {
   "cell_type": "markdown",
   "id": "bc66d7da-5ba8-4714-b62c-f1ac8a346696",
   "metadata": {},
   "source": [
    "#### SmartRedis store tensors, however it is possible to store and retrive strings, in our case, we are using Autodock's native data representation based on pdbqt format:"
   ]
  },
  {
   "cell_type": "code",
   "execution_count": 3,
   "id": "c73baffe-d796-46a7-aa90-eac9dc4d5933",
   "metadata": {},
   "outputs": [
    {
     "name": "stdout",
     "output_type": "stream",
     "text": [
      "REMARK  5 active torsions:\n",
      "REMARK  status: ('A' for Active; 'I' for Inactive)\n",
      "REMARK    1  A    between atoms: C11_1  and  C10_4 \n",
      "REMARK    2  A    between atoms: C10_4  and  C9_5 \n",
      "REMARK    3  A    between atoms: C9_5  and  C8_6 \n",
      "REMARK    4  A    between atoms: C8_6  and  C7_7 \n",
      "REMARK    5  A    between atoms: C7_7  and  C2_8 \n",
      "ROOT\n",
      "HETATM    1  C11 BTN A 300       9.051   4.576 -14.459  1.00 21.57     0.172 C \n",
      "HETATM    2  O11 BTN A 300       8.147   5.373 -14.172  1.00 21.65    -0.648 OA\n",
      "HETATM    3  O12 BTN A 300       8.697   3.498 -15.132  1.00 22.67    -0.648 OA\n",
      "ENDROOT\n",
      "BRANCH   1   4\n",
      "HETATM    4  C10 BTN A 300      10.321   4.413 -13.702  1.00 20.77     0.113 C \n",
      "BRANCH   4   5\n",
      "HETATM    5  C9  BTN A 300      10.215   3.247 -12.658  1.00 20.09     0.010 C \n",
      "BRANCH   5   6\n",
      "HETATM    6  C8  BTN A 300      11.487   2.972 -11.964  1.00 19.24     0.002 C \n",
      "BRANCH   6   7\n",
      "HETATM    7  C7  BTN A 300      11.627   1.558 -11.402  1.00 18.33     0.017 C \n",
      "BRANCH   7   8\n",
      "HETATM    8  C2  BTN A 300      10.923   1.086 -10.195  1.00 17.74     0.072 C \n",
      "HETATM    9  S1  BTN A 300      10.884   2.103  -8.662  1.00 16.59    -0.160 SA\n",
      "HETATM   10  C6  BTN A 300      10.299   0.620  -7.760  1.00 17.06     0.101 C \n",
      "HETATM   11  C5  BTN A 300      11.142  -0.543  -8.274  1.00 17.47     0.119 A \n",
      "HETATM   12  N1  BTN A 300      12.443  -0.631  -7.613  1.00 17.73    -0.336 N \n",
      "HETATM   13  C4  BTN A 300      11.513  -0.265  -9.727  1.00 17.65     0.123 A \n",
      "HETATM   14  C3  BTN A 300      13.467  -0.443  -8.453  1.00 17.95     0.316 A \n",
      "HETATM   15  H1  BTN A 300      12.558  -0.816  -6.617  1.00  0.00     0.164 HD\n",
      "HETATM   16  O3  BTN A 300      14.692  -0.446  -8.205  1.00 17.93    -0.247 OA\n",
      "HETATM   17  N2  BTN A 300      12.974  -0.237  -9.695  1.00 17.92    -0.335 N \n",
      "HETATM   18  H2  BTN A 300      13.556  -0.080 -10.517  1.00  0.00     0.164 HD\n",
      "ENDBRANCH   7   8\n",
      "ENDBRANCH   6   7\n",
      "ENDBRANCH   5   6\n",
      "ENDBRANCH   4   5\n",
      "ENDBRANCH   1   4\n",
      "TORSDOF 5\n",
      "\n"
     ]
    }
   ],
   "source": [
    "inputLigadStr = \"\".join([chr(char) for char in inputLigand])\n",
    "print (inputLigadStr)"
   ]
  },
  {
   "cell_type": "markdown",
   "id": "5a537555-b5f2-4c40-8329-051fe710680b",
   "metadata": {},
   "source": [
    "### Let's get some meta data"
   ]
  },
  {
   "cell_type": "code",
   "execution_count": 4,
   "id": "4dc82221-dd7c-4608-bb5a-1ce522e22cfc",
   "metadata": {},
   "outputs": [
    {
     "name": "stdout",
     "output_type": "stream",
     "text": [
      "Number of runs:  [100]\n",
      "Number of energy evaluations:  [244898]\n",
      "Number of generations:  [42000]\n",
      "Size of population:  [150]\n"
     ]
    }
   ],
   "source": [
    "runs=dataset.get_meta_scalars(\"runs\")\n",
    "print(\"Number of runs: \", runs)\n",
    "print(\"Number of energy evaluations: \", dataset.get_meta_scalars(\"nrg_evaluations\"))\n",
    "print(\"Number of generations: \", dataset.get_meta_scalars(\"generations\"))\n",
    "print(\"Size of population: \", dataset.get_meta_scalars(\"population_size\"))"
   ]
  },
  {
   "cell_type": "markdown",
   "id": "e28d003f-2970-415f-876f-7d378a6b3e2d",
   "metadata": {},
   "source": [
    "### Let's visualize the Input Ligand with NGL, first we need to convert pdbqt string format to pdb format which is supported by NGL:"
   ]
  },
  {
   "cell_type": "code",
   "execution_count": 5,
   "id": "17568401-2e56-47e7-a30f-bfea6d322e53",
   "metadata": {},
   "outputs": [
    {
     "name": "stdout",
     "output_type": "stream",
     "text": [
      "REMARK  5 active torsions:\n",
      "REMARK  status: ('A' for Active; 'I' for Inactive)\n",
      "REMARK    1  A    between atoms: C11_1  and  C10_4 \n",
      "REMARK    2  A    between atoms: C10_4  and  C9_5 \n",
      "REMARK    3  A    between atoms: C9_5  and  C8_6 \n",
      "REMARK    4  A    between atoms: C8_6  and  C7_7 \n",
      "REMARK    5  A    between atoms: C7_7  and  C2_8 \n",
      "COMPND    UNNAMED\n",
      "AUTHOR    GENERATED BY OPEN BABEL 3.1.0\n",
      "HETATM    1  C11 BTN A 300       9.051   4.576 -14.459  1.00  0.00           C  \n",
      "HETATM    2  O11 BTN A 300       8.147   5.373 -14.172  1.00  0.00           O  \n",
      "HETATM    3  O12 BTN A 300       8.697   3.498 -15.132  1.00  0.00           O  \n",
      "HETATM    4  C10 BTN A 300      10.321   4.413 -13.702  1.00  0.00           C  \n",
      "HETATM    5  C9  BTN A 300      10.215   3.247 -12.658  1.00  0.00           C  \n",
      "HETATM    6  C8  BTN A 300      11.487   2.972 -11.964  1.00  0.00           C  \n",
      "HETATM    7  C7  BTN A 300      11.627   1.558 -11.402  1.00  0.00           C  \n",
      "HETATM    8  C2  BTN A 300      10.923   1.086 -10.195  1.00  0.00           C  \n",
      "HETATM    9  S1  BTN A 300      10.884   2.103  -8.662  1.00  0.00           S  \n",
      "HETATM   10  C6  BTN A 300      10.299   0.620  -7.760  1.00  0.00           C  \n",
      "HETATM   11  C5  BTN A 300      11.142  -0.543  -8.274  1.00  0.00           C  \n",
      "HETATM   12  N1  BTN A 300      12.443  -0.631  -7.613  1.00  0.00           N  \n",
      "HETATM   13  C4  BTN A 300      11.513  -0.265  -9.727  1.00  0.00           C  \n",
      "HETATM   14  C3  BTN A 300      13.467  -0.443  -8.453  1.00  0.00           C  \n",
      "HETATM   15  H1  BTN A 300      12.558  -0.816  -6.617  1.00  0.00           H  \n",
      "HETATM   16  O3  BTN A 300      14.692  -0.446  -8.205  1.00  0.00           O  \n",
      "HETATM   17  N2  BTN A 300      12.974  -0.237  -9.695  1.00  0.00           N  \n",
      "HETATM   18  H2  BTN A 300      13.556  -0.080 -10.517  1.00  0.00           H  \n",
      "CONECT    1    3    3    2    4                                       \n",
      "CONECT    2    1                                                      \n",
      "CONECT    3    1    1                                                 \n",
      "CONECT    4    1    5                                                 \n",
      "CONECT    5    4    6                                                 \n",
      "CONECT    6    5    7                                                 \n",
      "CONECT    7    6    8                                                 \n",
      "CONECT    8    7   13    9                                            \n",
      "CONECT    9    8   10                                                 \n",
      "CONECT   10    9   11                                                 \n",
      "CONECT   11   13   10   12                                            \n",
      "CONECT   12   14   11   15                                            \n",
      "CONECT   13    8   17   11                                            \n",
      "CONECT   14   17   16   16   12                                       \n",
      "CONECT   15   12                                                      \n",
      "CONECT   16   14   14                                                 \n",
      "CONECT   17   18   13   14                                            \n",
      "CONECT   18   17                                                      \n",
      "MASTER        0    0    0    0    0    0    0    0   18    0   18    0\n",
      "END\n",
      "\n"
     ]
    }
   ],
   "source": [
    "from openbabel import openbabel as ob\n",
    "\n",
    "obc = ob.OBConversion()\n",
    "obc.SetInAndOutFormats(\"pdbqt\", \"pdb\")\n",
    "mol = ob.OBMol()\n",
    "obc.ReadString(mol,inputLigadStr)\n",
    "inputLigadStr_pdb=obc.WriteString(mol)\n",
    "print (inputLigadStr_pdb)"
   ]
  },
  {
   "cell_type": "markdown",
   "id": "06b6b465-d32a-451e-aea4-b2fd1cd0c3dc",
   "metadata": {},
   "source": [
    "### now visualize the Input Ligand in pdb format"
   ]
  },
  {
   "cell_type": "code",
   "execution_count": 6,
   "id": "8395b58b-12b1-4d43-9f3f-5eb3842f1a16",
   "metadata": {},
   "outputs": [
    {
     "data": {
      "application/vnd.jupyter.widget-view+json": {
       "model_id": "c6417aa5191140a9aaebbfb657502252",
       "version_major": 2,
       "version_minor": 0
      },
      "text/plain": []
     },
     "metadata": {},
     "output_type": "display_data"
    },
    {
     "data": {
      "application/vnd.jupyter.widget-view+json": {
       "model_id": "4f12a6d874594877b8f6e576ef52f2a3",
       "version_major": 2,
       "version_minor": 0
      },
      "text/plain": [
       "ThemeManager()"
      ]
     },
     "metadata": {},
     "output_type": "display_data"
    },
    {
     "data": {
      "application/vnd.jupyter.widget-view+json": {
       "model_id": "36f63903ced74e10ac693146a6f48db9",
       "version_major": 2,
       "version_minor": 0
      },
      "text/plain": [
       "NGLWidget(gui_style='ngl')"
      ]
     },
     "metadata": {},
     "output_type": "display_data"
    }
   ],
   "source": [
    "import nglview\n",
    "\n",
    "view = nglview.NGLWidget()\n",
    "\n",
    "model = nglview.TextStructure(inputLigadStr_pdb,ext='pdb')\n",
    "view = nglview.NGLWidget()\n",
    "view.add_structure(model)\n",
    "\n",
    "view.display(gui=True)\n"
   ]
  },
  {
   "cell_type": "code",
   "execution_count": 7,
   "id": "4346d601-3a61-4919-b865-fbbcbd067e4c",
   "metadata": {},
   "outputs": [],
   "source": [
    "#view[0].show()\n",
    "#view[0].hide()"
   ]
  },
  {
   "cell_type": "code",
   "execution_count": null,
   "id": "c1ea1697-ba25-47b0-8754-015b400cc67d",
   "metadata": {},
   "outputs": [],
   "source": []
  }
 ],
 "metadata": {
  "kernelspec": {
   "display_name": "Python 3",
   "language": "python",
   "name": "python3"
  },
  "language_info": {
   "codemirror_mode": {
    "name": "ipython",
    "version": 3
   },
   "file_extension": ".py",
   "mimetype": "text/x-python",
   "name": "python",
   "nbconvert_exporter": "python",
   "pygments_lexer": "ipython3",
   "version": "3.8.8"
  }
 },
 "nbformat": 4,
 "nbformat_minor": 5
}
